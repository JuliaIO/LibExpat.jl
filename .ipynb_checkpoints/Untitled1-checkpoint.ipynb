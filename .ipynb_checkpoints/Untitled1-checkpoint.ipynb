{
 "cells": [
  {
   "cell_type": "code",
   "execution_count": 1,
   "metadata": {
    "collapsed": false
   },
   "outputs": [
    {
     "name": "stdout",
     "output_type": "stream",
     "text": [
      "1"
     ]
    },
    {
     "name": "stderr",
     "output_type": "stream",
     "text": [
      "ERROR (unhandled task failure): push! called when another signal is still updating.\n",
      " in push! at C:\\Users\\Sim\\.julia\\v0.4\\Reactive\\src\\Reactive.jl:280\n",
      " in update_selectionqueries at C:\\Users\\Sim\\.julia\\v0.4\\GLVisualize\\src\\display\\renderloop.jl:137\n",
      " in renderloop_inner at C:\\Users\\Sim\\.julia\\v0.4\\GLVisualize\\src\\display\\renderloop.jl:152\n",
      " in renderloop at C:\\Users\\Sim\\.julia\\v0.4\\GLVisualize\\src\\display\\renderloop.jl:122\n",
      " in renderloop_fun at C:\\Users\\Sim\\.julia\\v0.4\\GLVisualize\\src\\display\\renderloop.jl:115 (repeats 2 times)\n",
      " in anonymous at task.jl:447\n",
      "ERROR (unhandled task failure): push! called when another signal is still updating.\n",
      " in push! at C:\\Users\\Sim\\.julia\\v0.4\\Reactive\\src\\Reactive.jl:280\n",
      " in anonymous at C:\\Users\\Sim\\.julia\\v0.4\\Reactive\\src\\timing.jl:34\n",
      " in anonymous at task.jl:632\n"
     ]
    },
    {
     "name": "stdout",
     "output_type": "stream",
     "text": [
      "   : #version 330\n",
      "2   : \r\n",
      "3   : uniform vec4 bg_color;\r\n",
      "4   : uniform vec4 grid_color;\r\n",
      "5   : uniform vec3 grid_thickness;\r\n",
      "6   : uniform vec3 gridsteps;\r\n",
      "7   : \r\n",
      "8   : in vec3 vposition;\r\n",
      "9   : \r\n",
      "10  : out vec4 fragment_color;\r\n",
      "11  : #define M_PI 3.1415926535897932384626433832795\r\n",
      "12  : \r\n",
      "13  : #define ALIASING_CONST 0.70710678118654757\r\n",
      "14  : \r\n",
      "15  : float aastep(float threshold1,float value) {\r\n",
      "16  :     float afwidth = length(vec2(dFdx(value), dFdy(value))) * ALIASING_CONST;\r\n",
      "17  :     return smoothstep(threshold1-afwidth, threshold1+afwidth, value);\r\n",
      "18  : }\r\n",
      "19  : vec3 aastep(vec3 threshold, vec3 value) {\r\n",
      "20  : \treturn vec3(aastep(threshold.x, value.x), aastep(threshold.y, value.y), aastep(threshold.z, value.z));\r\n",
      "21  : }\r\n",
      "22  : void main()\r\n",
      "23  : {\r\n",
      "24  :  \tvec3  v  \t\t= vec3(vposition.xyz) * gridsteps * M_PI;\r\n",
      "25  :     vec3  f  \t\t= abs(fract(v*/10));\r\n",
      "26  :     vec3  g  \t\t= aastep(vec3(0.5), f);\r\n",
      "27  :     float c  \t\t= max(g.x, max(g.y, g.z))*10;\r\n",
      "28  :     fragment_color \t= mix(bg_color, grid_color, c);\r\n",
      "29  : }\n"
     ]
    },
    {
     "name": "stderr",
     "output_type": "stream",
     "text": [
      "shader C:\\Users\\Sim\\.julia\\v0.4\\GLVisualize\\src\\shader\\grid.frag didn't compile. \n",
      "ERROR: 0:25: '/' : syntax error syntax error\n",
      "\n",
      "\n",
      "\n",
      " in error at error.jl:21\n",
      "ERROR (unhandled task failure): shader C:\\Users\\Sim\\.julia\\v0.4\\GLVisualize\\src\\shader\\grid.frag didn't compile. \n",
      "ERROR: 0:25: '/' : syntax error syntax error\n",
      "\n",
      "\n",
      " in push! at C:\\Users\\Sim\\.julia\\v0.4\\Reactive\\src\\Reactive.jl:338\n",
      " in anonymous at C:\\Users\\Sim\\.julia\\v0.4\\Reactive\\src\\timing.jl:34\n",
      " in anonymous at task.jl:632\n"
     ]
    }
   ],
   "source": [
    "using GeometryTypes, ColorTypes\n",
    "\n",
    "using GLVisualize, GLWindow, ModernGL\n",
    "w, r = glscreen();\n",
    "@async r();\n",
    "\n",
    "robj = visualize(rand(Float32, 83,83))\n",
    "aabb = robj.boundingbox.value\n",
    "view(visualize(aabb, :grid, window_size=w.inputs[:window_size]))\n",
    "view(robj)\n",
    "glClearColor(1,1,1,1)"
   ]
  }
 ],
 "metadata": {
  "kernelspec": {
   "display_name": "Julia 0.4.0-dev",
   "language": "julia",
   "name": "julia-0.4"
  },
  "language_info": {
   "name": "julia",
   "version": "0.4.0"
  }
 },
 "nbformat": 4,
 "nbformat_minor": 0
}
