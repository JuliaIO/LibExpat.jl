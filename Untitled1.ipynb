{
 "cells": [
  {
   "cell_type": "code",
   "execution_count": 1,
   "metadata": {
    "collapsed": false
   },
   "outputs": [],
   "source": [
    "using GeometryTypes, ColorTypes\n",
    "\n",
    "using GLVisualize, GLWindow, ModernGL, Reactive, GLAbstraction\n",
    "w, r = glscreen();\n",
    "@async r();\n",
    "\n",
    "robj = visualize(rand(Float32, 83,83))\n",
    "aabb = robj.boundingbox.value\n",
    "using GLAbstraction\n",
    "view(visualize(aabb, :grid, window_size=lift(Vec2f0, w.inputs[:framebuffer_size])))\n",
    "view(robj)\n",
    "glClearColor(1,1,1,1)"
   ]
  },
  {
   "cell_type": "code",
   "execution_count": 2,
   "metadata": {
    "collapsed": true
   },
   "outputs": [],
   "source": [
    "using GLAbstraction\n",
    "view(visualize(aabb, :grid, window_size=lift(Vec2f0, w.inputs[:framebuffer_size])))\n",
    "view(robj)\n",
    "glClearColor(1,1,1,1)"
   ]
  },
  {
   "cell_type": "code",
   "execution_count": 5,
   "metadata": {
    "collapsed": false
   },
   "outputs": [
    {
     "ename": "LoadError",
     "evalue": "LoadError: UndefVarError: len not defined\nwhile loading In[5], in expression starting on line 2",
     "output_type": "error",
     "traceback": [
      "LoadError: UndefVarError: len not defined\nwhile loading In[5], in expression starting on line 2",
      ""
     ]
    }
   ],
   "source": [
    "    w, h = 500, 500\n",
    "n = 500\n",
    "    L = linspace(0,w,n)\n",
    "\n",
    "    t = major_grid[0]\n",
    "    I = logspace(np.log10(1), np.log10(2*w), 5)"
   ]
  }
 ],
 "metadata": {
  "kernelspec": {
   "display_name": "Julia 0.4.0-dev",
   "language": "julia",
   "name": "julia-0.4"
  },
  "language_info": {
   "name": "julia",
   "version": "0.4.0"
  }
 },
 "nbformat": 4,
 "nbformat_minor": 0
}
