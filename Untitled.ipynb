{
 "cells": [
  {
   "cell_type": "code",
   "execution_count": 1,
   "metadata": {
    "collapsed": false
   },
   "outputs": [
    {
     "data": {
      "text/plain": [
       "align_left (generic function with 2 methods)"
      ]
     },
     "execution_count": 1,
     "metadata": {},
     "output_type": "execute_result"
    }
   ],
   "source": [
    "using GeometryTypes, ColorTypes\n",
    "\n",
    "using GLVisualize, GLWindow\n",
    "w, r = glscreen();\n",
    "@async r();\n",
    "using GeometryTypes, Reactive, GLAbstraction, ModernGL\n",
    "import Quaternions\n",
    "using FileIO\n",
    "using ImageIO\n",
    "\n",
    "area_msg, area3d = x_partition(w.area, 30.0);\n",
    "screen3D         = Screen(w, area=area3d);\n",
    "screenMSG        = Screen(w, area=area_msg);\n",
    "\n",
    "cs = cubecamera(screen3D);\n",
    "\n",
    "function message_area(yoffset, y_scroll, screen_width, screen_height)\n",
    "    yposition    = yoffset+(round(Int, y_scroll)*50) # for scrolling and positioning\n",
    "    Rectangle(5, yposition, screen_width, screen_height)\n",
    "end\n",
    "\n",
    "function create_screens(yoffset, robj, scroll_window, main_screen)\n",
    "    yoffset -= 30\n",
    "    frame   = 10\n",
    "    boundingbox             = robj.boundingbox\n",
    "    bbsize                  = boundingbox.maximum - boundingbox.minimum\n",
    "    screen_height           = round(Int, bbsize[2])+frame\n",
    "    screen_width            = lift(x->round(Int, x.w*0.94), main_screen.area)\n",
    "    move                    = bbsize+Float32(frame/2f0)\n",
    "\n",
    "    yoffset     -= screen_height\n",
    "    area        = lift(Rectangle, round(Int,boundingbox.minimum[1]),  round(Int,boundingbox.minimum[2]), lift(round, Int,screen_width), lift(round, Int, screen_height))\n",
    "    view(\n",
    "        visualize(area, style=Cint(4),thickness = 1f0,color=RGBA(0.1f0, 0.9f0, 0.2f0, 0.9f0)),\n",
    "        main_screen\n",
    "    )\n",
    "    view(extract_renderable(robj), main_screen)\n",
    "    yoffset\n",
    "end\n",
    "\n",
    "scroll_window   = foldl(+, 0.0, keepwhen(screenMSG.inputs[:mouseinside], 0.0, screenMSG.inputs[:scroll_y]))\n",
    "all_robjs       = Input(Context(visualize(\"halllo booooys whatupp\")));\n",
    "foldl(\n",
    "    create_screens,\n",
    "    area_msg.value.h,\n",
    "    all_robjs,\n",
    "    Input(scroll_window), Input(screenMSG)\n",
    ")\n",
    "#push!(all_robjs, visualize(file\"good.png\"))\n",
    "\n",
    "using Benchmarks\n",
    "\n",
    "\n",
    "function under(robj1, robj2, direction, gap=0f0)\n",
    "    bb1 = robj1.boundingbox.value;\n",
    "    bb2 = robj2.boundingbox.value;\n",
    "    position1 = minimum(bb1)\n",
    "    position2 = minimum(bb2)\n",
    "    position2_upper = maximum(bb2)\n",
    "    to_move = -(position2_upper-position1)\n",
    "    robj2[:model] = lift(*, translationmatrix(to_move.*direction + Vec3f0(gap).*direction),  robj2[:model])\n",
    "end\n",
    "under_x(robj1, robj2, gap=0f0) = under(robj1, robj2, unit(Vec3f0, 1), gap)\n",
    "under_y(robj1, robj2, gap=0f0) = under(robj1, robj2, unit(Vec3f0, 2), gap)\n",
    "under_z(robj1, robj2, gap=0f0) = under(robj1, robj2, unit(Vec3f0, 3), gap)\n",
    "\n",
    "function align_left(robj1, robj2, gap=0f0)\n",
    "    bb1 = robj1.boundingbox.value;\n",
    "    bb2 = robj2.boundingbox.value;\n",
    "    position1 = minimum(bb1)\n",
    "    position2 = minimum(bb2)\n",
    "    to_move = (position2-position1)\n",
    "    robj2[:model] = lift(*, translationmatrix(Vec3f0(-to_move[1],0,0)),  robj2[:model])\n",
    "end\n",
    "\n"
   ]
  },
  {
   "cell_type": "code",
   "execution_count": 2,
   "metadata": {
    "collapsed": false
   },
   "outputs": [
    {
     "data": {
      "text/plain": [
       "test_bench (generic function with 1 method)"
      ]
     },
     "execution_count": 2,
     "metadata": {},
     "output_type": "execute_result"
    }
   ],
   "source": []
  },
  {
   "cell_type": "code",
   "execution_count": 2,
   "metadata": {
    "collapsed": false
   },
   "outputs": [
    {
     "data": {
      "text/plain": [
       "8-element Array{Benchmarks.Results,1}:\n",
       " ================ Benchmark Results ========================\n",
       "   Average elapsed time: 138.89 ns\n",
       "     95% CI for average: [41.11 ns, 236.67 ns]\n",
       "   Minimum elapsed time: 0.00 ns\n",
       "                GC time: NaN%\n",
       "       Memory allocated: 896 bytes\n",
       "  Number of allocations: 1 allocations\n",
       "      Number of samples: 100\n",
       "        R² of OLS model: NaN\n",
       "Time used for benchmark: 0.07s\n",
       "            Precompiled: true\n",
       "       Multiple samples: true\n",
       "       Search performed: false     \n",
       " ================ Benchmark Results ========================\n",
       "   Average elapsed time: 156.98 ns\n",
       "     95% CI for average: [62.45 ns, 251.51 ns]\n",
       "   Minimum elapsed time: 0.00 ns\n",
       "                GC time: NaN%\n",
       "       Memory allocated: 896 bytes\n",
       "  Number of allocations: 1 allocations\n",
       "      Number of samples: 100\n",
       "        R² of OLS model: NaN\n",
       "Time used for benchmark: 0.00s\n",
       "            Precompiled: true\n",
       "       Multiple samples: true\n",
       "       Search performed: false     \n",
       " ================ Benchmark Results ========================\n",
       "   Average elapsed time: 207.10 ns\n",
       "     95% CI for average: [204.00 ns, 210.19 ns]\n",
       "   Minimum elapsed time: 0.00 ns\n",
       "                GC time: NaN%\n",
       "       Memory allocated: 896 bytes\n",
       "  Number of allocations: 1 allocations\n",
       "      Number of samples: 10601\n",
       "        R² of OLS model: 0.938\n",
       "Time used for benchmark: 10.24s\n",
       "            Precompiled: true\n",
       "       Multiple samples: true\n",
       "       Search performed: true\n",
       " ================ Benchmark Results ========================\n",
       "   Average elapsed time: 141.88 ns\n",
       "     95% CI for average: [47.45 ns, 236.31 ns]\n",
       "   Minimum elapsed time: 0.00 ns\n",
       "                GC time: NaN%\n",
       "       Memory allocated: 896 bytes\n",
       "  Number of allocations: 1 allocations\n",
       "      Number of samples: 100\n",
       "        R² of OLS model: NaN\n",
       "Time used for benchmark: 0.00s\n",
       "            Precompiled: true\n",
       "       Multiple samples: true\n",
       "       Search performed: false     \n",
       " ================ Benchmark Results ========================\n",
       "   Average elapsed time: 156.98 ns\n",
       "     95% CI for average: [66.03 ns, 247.93 ns]\n",
       "   Minimum elapsed time: 0.00 ns\n",
       "                GC time: NaN%\n",
       "       Memory allocated: 896 bytes\n",
       "  Number of allocations: 1 allocations\n",
       "      Number of samples: 100\n",
       "        R² of OLS model: NaN\n",
       "Time used for benchmark: 0.00s\n",
       "            Precompiled: true\n",
       "       Multiple samples: true\n",
       "       Search performed: false     \n",
       " ================ Benchmark Results ========================\n",
       "   Average elapsed time: 141.86 ns\n",
       "     95% CI for average: [51.02 ns, 232.70 ns]\n",
       "   Minimum elapsed time: 0.00 ns\n",
       "                GC time: NaN%\n",
       "       Memory allocated: 896 bytes\n",
       "  Number of allocations: 1 allocations\n",
       "      Number of samples: 100\n",
       "        R² of OLS model: NaN\n",
       "Time used for benchmark: 0.00s\n",
       "            Precompiled: true\n",
       "       Multiple samples: true\n",
       "       Search performed: false     \n",
       " ================ Benchmark Results ========================\n",
       "   Average elapsed time: 144.89 ns\n",
       "     95% CI for average: [50.37 ns, 239.41 ns]\n",
       "   Minimum elapsed time: 0.00 ns\n",
       "                GC time: NaN%\n",
       "       Memory allocated: 896 bytes\n",
       "  Number of allocations: 1 allocations\n",
       "      Number of samples: 100\n",
       "        R² of OLS model: NaN\n",
       "Time used for benchmark: 0.00s\n",
       "            Precompiled: true\n",
       "       Multiple samples: true\n",
       "       Search performed: false     \n",
       " ================ Benchmark Results ========================\n",
       "   Average elapsed time: 123.79 ns\n",
       "     95% CI for average: [34.24 ns, 213.34 ns]\n",
       "   Minimum elapsed time: 0.00 ns\n",
       "                GC time: NaN%\n",
       "       Memory allocated: 896 bytes\n",
       "  Number of allocations: 1 allocations\n",
       "      Number of samples: 100\n",
       "        R² of OLS model: NaN\n",
       "Time used for benchmark: 0.00s\n",
       "            Precompiled: true\n",
       "       Multiple samples: true\n",
       "       Search performed: false     "
      ]
     },
     "execution_count": 2,
     "metadata": {},
     "output_type": "execute_result"
    }
   ],
   "source": [
    "using Benchmarks\n",
    "function test_bench(a, inds)\n",
    "    @inbounds res = a[inds[1]]\n",
    "    @inbounds for i in inds[2:end]\n",
    "        res = a[i]\n",
    "    end\n",
    "    res\n",
    "end\n",
    "benches = Benchmarks.Results[]\n",
    "for n=1:10000:10^5\n",
    "    try\n",
    "        a = rand(n); inds=rand(1:n, 100)\n",
    "        push!(benches, @benchmark(test_bench(a, inds)))\n",
    "    catch e\n",
    "    end\n",
    "end\n",
    "benches"
   ]
  },
  {
   "cell_type": "code",
   "execution_count": 3,
   "metadata": {
    "collapsed": false
   },
   "outputs": [],
   "source": [
    "using ModernGL\n",
    "glClearColor(1,1,1,1)"
   ]
  },
  {
   "cell_type": "code",
   "execution_count": 4,
   "metadata": {
    "collapsed": false
   },
   "outputs": [
    {
     "data": {
      "text/plain": [
       "8-element Array{Benchmarks.Statistics{Float64},1}:\n",
       " Benchmarks.Statistics{Float64}(138.89,(41.108280384782105,236.67171961521785),0.0,NaN,896,1,100,NaN)                            \n",
       " Benchmarks.Statistics{Float64}(156.98,(62.45485260043711,251.50514739956287),0.0,NaN,896,1,100,NaN)                             \n",
       " Benchmarks.Statistics{Float64}(207.0953969923239,(204.00277623659997,210.18801774804786),0.0,NaN,896,1,10601,0.9383890689525047)\n",
       " Benchmarks.Statistics{Float64}(141.88,(47.44609699708667,236.31390300291332),0.0,NaN,896,1,100,NaN)                             \n",
       " Benchmarks.Statistics{Float64}(156.98,(66.03110405987726,247.92889594012271),0.0,NaN,896,1,100,NaN)                             \n",
       " Benchmarks.Statistics{Float64}(141.86,(51.018719035491785,232.70128096450824),0.0,NaN,896,1,100,NaN)                            \n",
       " Benchmarks.Statistics{Float64}(144.89,(50.37366586572551,239.40633413427446),0.0,NaN,896,1,100,NaN)                             \n",
       " Benchmarks.Statistics{Float64}(123.79,(34.24247904553188,213.33752095446812),0.0,NaN,896,1,100,NaN)                             "
      ]
     },
     "execution_count": 4,
     "metadata": {},
     "output_type": "execute_result"
    }
   ],
   "source": [
    "benchstats = map(Benchmarks.Statistics, benches)"
   ]
  },
  {
   "cell_type": "code",
   "execution_count": 5,
   "metadata": {
    "collapsed": false
   },
   "outputs": [
    {
     "data": {
      "text/plain": [
       "visualize (generic function with 78 methods)"
      ]
     },
     "execution_count": 5,
     "metadata": {},
     "output_type": "execute_result"
    }
   ],
   "source": [
    "function GLVisualize.visualize(b::Vector{Benchmarks.Statistics{Float64}})\n",
    "    av = map(x-> x.average_time, b)\n",
    "    interv = map(x-> Vec{2, Float32}(x.interval), b)\n",
    "    m = maximum(av)\n",
    "    l = length(av)\n",
    "    ps = Point3f0[Point3f0(i*3/l,0f0, 1f0-(x/m)) for (i,x) in enumerate(av)]\n",
    "    points = visualize(ps, color=RGBA(0.84f0, 0.1f0, 0.5f0, 1f0), scale=Vec3f0(0.06), primitive=GLNormalMesh(Sphere{Float32}(Point3f0(0), 1f0)))\n",
    "    \n",
    "end"
   ]
  },
  {
   "cell_type": "code",
   "execution_count": 6,
   "metadata": {
    "collapsed": false
   },
   "outputs": [
    {
     "data": {
      "text/plain": [
       "2-element Array{GLAbstraction.RenderObject,1}:\n",
       " RenderObject with ID: 6\n",
       "uniforms: \n",
       "   objectid\n",
       "      6\n",
       "   scale\n",
       "      GeometryTypes.Vec{3,Float32}((0.06f0,0.06f0,0.06f0))\n",
       "   model\n",
       "      [Reactive.Input{FixedSizeArrays.Mat{4,4,Float32}}] FixedSizeArrays.Mat{4,4,Float32}(\n",
       "    1.0 0.0 0.0 0.0\n",
       "    0.0 1.0 0.0 0.0\n",
       "    0.0 0.0 1.0 0.0\n",
       "    0.0 0.0 0.0 1.0\n",
       ")\n",
       "\n",
       "   color\n",
       "      RGBA{Float32}(0.84f0,0.1f0,0.5f0,1.0f0)\n",
       "   positions\n",
       "      Texture1D: \n",
       "                  ID: 10\n",
       "                Size: Dimensions: x8\n",
       "    Julia pixel type: GeometryTypes.Point{3,Float32}\n",
       "   OpenGL pixel type: GL_FLOAT\n",
       "              Format: GL_RGB\n",
       "     Internal format: GL_RGB32F\n",
       "          Parameters: GLAbstraction.TextureParameters{1}(:linear,:linear,(:clamp_to_edge,))\n",
       "\n",
       "   eyeposition\n",
       "      [Reactive.Lift{GeometryTypes.Vec{3,Float32}}] GeometryTypes.Vec{3,Float32}((2.0f0,2.0f0,2.0f0))\n",
       "   projection\n",
       "      [Reactive.Lift{FixedSizeArrays.Mat{4,4,Float32}}] FixedSizeArrays.Mat{4,4,Float32}(\n",
       "    2.26665 0.0 0.0 0.0\n",
       "    0.0 2.538648 0.0 0.0\n",
       "    0.0 0.0 -1.020202 -2.020202\n",
       "    0.0 0.0 -1.0 0.0\n",
       ")\n",
       "\n",
       "   light\n",
       "      [Reactive.Input{Array{GeometryTypes.Vec{3,Float32},1}}] Vector with: 4xGeometryTypes.Vec{3,Float32}[[1.0, 1.0, 1.0][0.1, 0.1, 0.1][0.9, 0.9, 0.9][20.0, 20.0, 20.0]]\n",
       "\n",
       "   view\n",
       "      [Reactive.Lift{FixedSizeArrays.Mat{4,4,Float32}}] FixedSizeArrays.Mat{4,4,Float32}(\n",
       "    -0.70710677 0.70710677 0.0 0.0\n",
       "    -0.4082483 -0.4082483 0.8164966 0.0\n",
       "    0.57735026 0.57735026 0.57735026 -3.4641016\n",
       "    0.0 0.0 0.0 1.0\n",
       ")\n",
       "\n",
       "   preferred_camera\n",
       "      perspective\n",
       "   visible\n",
       "      true\n",
       "   projectionview\n",
       "      [Reactive.Lift{FixedSizeArrays.Mat{4,4,Float32}}] FixedSizeArrays.Mat{4,4,Float32}(\n",
       "    -1.6027635 1.6027635 0.0 0.0\n",
       "    -1.0363986 -1.0363986 2.0727973 0.0\n",
       "    -0.58901393 -0.58901393 -0.58901393 1.5138814\n",
       "    -0.57735026 -0.57735026 -0.57735026 3.4641016\n",
       ")\n",
       "\n",
       "vertexarray length: 257\n",
       "vertexarray indexlength: 1536\n",
       "\n",
       " RenderObject with ID: 7\n",
       "uniforms: \n",
       "   objectid\n",
       "      7\n",
       "   model\n",
       "      [Reactive.Input{FixedSizeArrays.Mat{4,4,Float32}}] FixedSizeArrays.Mat{4,4,Float32}(\n",
       "    1.0 0.0 0.0 0.0\n",
       "    0.0 1.0 0.0 0.0\n",
       "    0.0 0.0 1.0 0.0\n",
       "    0.0 0.0 0.0 1.0\n",
       ")\n",
       "\n",
       "   grid_thickness\n",
       "      GeometryTypes.Vec{3,Float32}((2.0f0,2.0f0,2.0f0))\n",
       "   grid_color\n",
       "      RGBA{Float32}(0.9f0,0.9f0,0.9f0,1.0f0)\n",
       "   eyeposition\n",
       "      [Reactive.Lift{GeometryTypes.Vec{3,Float32}}] GeometryTypes.Vec{3,Float32}((2.0f0,2.0f0,2.0f0))\n",
       "   projection\n",
       "      [Reactive.Lift{FixedSizeArrays.Mat{4,4,Float32}}] FixedSizeArrays.Mat{4,4,Float32}(\n",
       "    2.26665 0.0 0.0 0.0\n",
       "    0.0 2.538648 0.0 0.0\n",
       "    0.0 0.0 -1.020202 -2.020202\n",
       "    0.0 0.0 -1.0 0.0\n",
       ")\n",
       "\n",
       "   bg_colorc\n",
       "      RGBA{Float32}(0.8f0,0.8f0,0.8f0,1.0f0)\n",
       "   light\n",
       "      [Reactive.Input{Array{GeometryTypes.Vec{3,Float32},1}}] Vector with: 4xGeometryTypes.Vec{3,Float32}[[1.0, 1.0, 1.0][0.1, 0.1, 0.1][0.9, 0.9, 0.9][20.0, 20.0, 20.0]]\n",
       "\n",
       "   view\n",
       "      [Reactive.Lift{FixedSizeArrays.Mat{4,4,Float32}}] FixedSizeArrays.Mat{4,4,Float32}(\n",
       "    -0.70710677 0.70710677 0.0 0.0\n",
       "    -0.4082483 -0.4082483 0.8164966 0.0\n",
       "    0.57735026 0.57735026 0.57735026 -3.4641016\n",
       "    0.0 0.0 0.0 1.0\n",
       ")\n",
       "\n",
       "   preferred_camera\n",
       "      perspective\n",
       "   gridsteps\n",
       "      GeometryTypes.Vec{3,Float32}((10.0f0,10.0f0,10.0f0))\n",
       "   visible\n",
       "      true\n",
       "   projectionview\n",
       "      [Reactive.Lift{FixedSizeArrays.Mat{4,4,Float32}}] FixedSizeArrays.Mat{4,4,Float32}(\n",
       "    -1.6027635 1.6027635 0.0 0.0\n",
       "    -1.0363986 -1.0363986 2.0727973 0.0\n",
       "    -0.58901393 -0.58901393 -0.58901393 1.5138814\n",
       "    -0.57735026 -0.57735026 -0.57735026 3.4641016\n",
       ")\n",
       "\n",
       "vertexarray length: 24\n",
       "vertexarray indexlength: 36\n",
       "                                                                                                                                                                                                  "
      ]
     },
     "execution_count": 6,
     "metadata": {},
     "output_type": "execute_result"
    }
   ],
   "source": [
    "bobj = visualize(benchstats)\n",
    "view(bobj, screen3D)\n",
    "view(visualize(bobj.boundingbox.value, :grid), screen3D)"
   ]
  }
 ],
 "metadata": {
  "kernelspec": {
   "display_name": "Julia 0.4.0-dev",
   "language": "julia",
   "name": "julia-0.4"
  },
  "language_info": {
   "name": "julia",
   "version": "0.4.0"
  }
 },
 "nbformat": 4,
 "nbformat_minor": 0
}
