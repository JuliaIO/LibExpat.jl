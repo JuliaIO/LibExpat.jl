{
 "metadata": {
  "language": "Julia",
  "name": ""
 },
 "nbformat": 3,
 "nbformat_minor": 0,
 "worksheets": [
  {
   "cells": [
    {
     "cell_type": "markdown",
     "metadata": {},
     "source": [
      "# Let's take libexpat.jl for a whirl\n",
      "\n",
      "We'll start with a very simple chunk of XML, and then move to a more realistic example."
     ]
    },
    {
     "cell_type": "code",
     "collapsed": false,
     "input": [
      "using LibExpat"
     ],
     "language": "python",
     "metadata": {},
     "outputs": [],
     "prompt_number": 160
    },
    {
     "cell_type": "code",
     "collapsed": false,
     "input": [
      "names(LibExpat)"
     ],
     "language": "python",
     "metadata": {},
     "outputs": [
      {
       "metadata": {},
       "output_type": "pyout",
       "prompt_number": 161,
       "text": [
        "7-element Array{Symbol,1}:\n",
        " :ParsedData\n",
        " :ETree     \n",
        " :LibExpat  \n",
        " :@xpath_str\n",
        " :find      \n",
        " :xpath     \n",
        " :xp_parse  "
       ]
      }
     ],
     "prompt_number": 161
    },
    {
     "cell_type": "markdown",
     "metadata": {},
     "source": [
      "### Use xp_parse(string) to load a chunk of XML into an Etree"
     ]
    },
    {
     "cell_type": "code",
     "collapsed": false,
     "input": [
      "sm = \"\"\"<blah id=\"42\" class=\"top\">hi\n",
      "          <blue id=\"1\" class=\"cold\">hey</blue>\n",
      "          <red id=\"2\" class=\"hot\">yo</red>\n",
      "        </blah>\"\"\"        "
     ],
     "language": "python",
     "metadata": {},
     "outputs": [
      {
       "metadata": {},
       "output_type": "pyout",
       "prompt_number": 162,
       "text": [
        "\"<blah id=\\\"42\\\" class=\\\"top\\\">hi\\n  <blue id=\\\"1\\\" class=\\\"cold\\\">hey</blue>\\n  <red id=\\\"2\\\" class=\\\"hot\\\">yo</red>\\n</blah>\""
       ]
      }
     ],
     "prompt_number": 162
    },
    {
     "cell_type": "code",
     "collapsed": false,
     "input": [
      " et=xp_parse(s);"
     ],
     "language": "python",
     "metadata": {},
     "outputs": [],
     "prompt_number": 162
    },
    {
     "cell_type": "markdown",
     "metadata": {},
     "source": [
      "### Use find(et, element_path) to return an array of ETree objects matching an element path string \n",
      "\n",
      "The LibExpat.jl README describes the format of element_path.\n"
     ]
    },
    {
     "cell_type": "markdown",
     "metadata": {},
     "source": [
      "Let's check the structure of a simple ETree\n",
      "\n",
      "   * name = tag name of top element\n",
      "   * attr = Dict of top level attributes\n",
      "   * elements = array of top level payload/content, including junk whitespace.\n",
      "   * parent = parent ETree.  (the root node is self-referential, causing it to be displayed multiple times)\n",
      "    "
     ]
    },
    {
     "cell_type": "code",
     "collapsed": false,
     "input": [
      "esm = xp_parse(sm)\n",
      "dump(esm)"
     ],
     "language": "python",
     "metadata": {},
     "outputs": [
      {
       "output_type": "stream",
       "stream": "stdout",
       "text": [
        "ETree"
       ]
      },
      {
       "output_type": "stream",
       "stream": "stdout",
       "text": [
        " \n",
        "  name: ASCIIString \"blah\"\n",
        "  attr: Dict{AbstractString,AbstractString} len 2\n",
        "    class: ASCIIString \"top\"\n",
        "    id: ASCIIString \"42\"\n",
        "  elements: Array(Union{AbstractString,ETree},(8,)) [\"hi\",\"\\n\",\"  \",<blue class=\"cold\" id=\"1\">hey</blue>,\"\\n\",\"  \",<red class=\"hot\" id=\"2\">yo</red>,\"\\n\"]\n",
        "  parent: ETree \n",
        "    name: ASCIIString \"\"\n",
        "    attr: Dict{AbstractString,AbstractString} len 0\n",
        "    elements: Array(Union{AbstractString,ETree},(1,)) [<blah class=\"top\" id=\"42\">hi\n",
        "  <blue class=\"cold\" id=\"1\">hey</blue>\n",
        "  <red class=\"hot\" id=\"2\">yo</red>\n",
        "</blah>]\n",
        "    parent: ETree \n",
        "      name: ASCIIString \"\"\n",
        "      attr: Dict{AbstractString,AbstractString} len 0\n",
        "      elements: Array(Union{AbstractString,ETree},(1,)) [<blah class=\"top\" id=\"42\">hi\n",
        "  <blue class=\"cold\" id=\"1\">hey</blue>\n",
        "  <red class=\"hot\" id=\"2\">yo</red>\n",
        "</blah>]\n",
        "      parent: ETree \n",
        "        name: ASCIIString \"\"\n",
        "        attr: Dict{AbstractString,AbstractString} len 0\n",
        "        elements: Array(Union{AbstractString,ETree},(1,)) [<blah class=\"top\" id=\"42\">hi\n",
        "  <blue class=\"cold\" id=\"1\">hey</blue>\n",
        "  <red class=\"hot\" id=\"2\">yo</red>\n",
        "</blah>]\n",
        "        parent: ETree \n",
        "          name: ASCIIString \"\"\n",
        "          attr: Dict{AbstractString,AbstractString} len 0\n",
        "          elements: Array(Union{AbstractString,ETree},(1,)) [<blah class=\"top\" id=\"42\">hi\n",
        "  <blue class=\"cold\" id=\"1\">hey</blue>\n",
        "  <red class=\"hot\" id=\"2\">yo</red>\n",
        "</blah>]\n",
        "          parent: ETree \n"
       ]
      }
     ],
     "prompt_number": 163
    },
    {
     "cell_type": "code",
     "collapsed": false,
     "input": [
      "esm.name, esm.attr"
     ],
     "language": "python",
     "metadata": {},
     "outputs": [
      {
       "metadata": {},
       "output_type": "pyout",
       "prompt_number": 164,
       "text": [
        "(\"blah\",[\"class\"=>\"top\",\"id\"=>\"42\"])"
       ]
      }
     ],
     "prompt_number": 164
    },
    {
     "cell_type": "code",
     "collapsed": false,
     "input": [
      "esm.elements"
     ],
     "language": "python",
     "metadata": {},
     "outputs": [
      {
       "metadata": {},
       "output_type": "pyout",
       "prompt_number": 165,
       "text": [
        "8-element Array{Union{AbstractString,ETree},1}:\n",
        " \"hi\"                                \n",
        " \"\\n\"                                \n",
        " \"  \"                                \n",
        " <blue class=\"cold\" id=\"1\">hey</blue>\n",
        " \"\\n\"                                \n",
        " \"  \"                                \n",
        " <red class=\"hot\" id=\"2\">yo</red>    \n",
        " \"\\n\"                                "
       ]
      }
     ],
     "prompt_number": 165
    },
    {
     "cell_type": "code",
     "collapsed": false,
     "input": [
      "typeof(esm.elements[1]) <: AbstractString"
     ],
     "language": "python",
     "metadata": {},
     "outputs": [
      {
       "metadata": {},
       "output_type": "pyout",
       "prompt_number": 166,
       "text": [
        "true"
       ]
      }
     ],
     "prompt_number": 166
    },
    {
     "cell_type": "markdown",
     "metadata": {},
     "source": [
      "### Extract payload/contents from an element, ignoring whitespace and sub-elements"
     ]
    },
    {
     "cell_type": "code",
     "collapsed": false,
     "input": [
      "for e in esm.elements\n",
      "    stre = strip(string(e))\n",
      "    if length(stre)>0\n",
      "        println(stre, \"  \", typeof(e))\n",
      "        if typeof(e) <: AbstractString\n",
      "            println(\"Payload: \",stre)\n",
      "        end\n",
      "    end\n",
      "end\n",
      "  "
     ],
     "language": "python",
     "metadata": {},
     "outputs": [
      {
       "output_type": "stream",
       "stream": "stdout",
       "text": [
        "hi"
       ]
      },
      {
       "output_type": "stream",
       "stream": "stdout",
       "text": [
        "  ASCIIString\n",
        "Payload: hi\n",
        "<blue class=\"cold\" id=\"1\">hey</blue>  ETree\n",
        "<red class=\"hot\" id=\"2\">yo</red>  ETree\n"
       ]
      }
     ],
     "prompt_number": 167
    },
    {
     "cell_type": "markdown",
     "metadata": {},
     "source": [
      "### A more realistic example\n",
      "\n",
      "Here we are scraping data from a chunk of fairly clean HTML."
     ]
    },
    {
     "cell_type": "code",
     "collapsed": false,
     "input": [
      "s=\"\"\"<div id=\"flight_container\" style=\"padding: 2px;\">\n",
      "\t<table class=\"table_sides\" width=\"100%\" cellpadding=\"0\" cellspacing=\"0\" border=\"0\" align=\"\"><tbody><tr>\n",
      "\t\t\t<td bgcolor=\"FFFFFF\">\n",
      "\t\t\t\n",
      "<table width=\"100%\" border=\"0\" cellpadding=\"4\" cellspacing=\"0\" class=\"\"><thead>\n",
      "<tr><td colspan=\"15\" class=\"table_header\" align=\"left\">Flight Info - NXXXXXX(Rogers Bleeblah #)  </td></tr>\n",
      "\t<tr>\n",
      "<td width=\"\" class=\"table_row_header\" align=\"left\" valign=\"middle\">Date</td>\n",
      "<td width=\"\" class=\"table_row_header\" align=\"left\" valign=\"middle\">Origin</td>\n",
      "<td width=\"\" class=\"table_row_header\" align=\"left\" valign=\"middle\">Dest</td>\n",
      "<td width=\"\" class=\"table_row_header\" align=\"left\" valign=\"middle\">Depart</td>\n",
      "<td width=\"\" class=\"table_row_header\" align=\"left\" valign=\"middle\">Arrive</td>\n",
      "<td width=\"\" class=\"table_row_header\" align=\"left\" valign=\"middle\">Hobbs</td>\n",
      "<td width=\"\" class=\"table_row_header\" align=\"left\" valign=\"middle\">Flight Time</td>\n",
      "<td width=\"\" class=\"table_row_header\" align=\"left\" valign=\"middle\">Ground Time</td>\n",
      "<td width=\"\" class=\"table_row_header\" align=\"left\" valign=\"middle\">Flight Distance</td>\n",
      "<td width=\"\" class=\"table_row_header\" align=\"left\" valign=\"middle\">Taxi Distance</td>\n",
      "<td width=\"\" class=\"table_row_header\" align=\"left\" valign=\"middle\">Fuel</td>\n",
      "<td width=\"\" class=\"table_row_header\" align=\"left\" valign=\"middle\">Fuel/hr</td>\n",
      "<td width=\"\" class=\"table_row_header\" align=\"left\" valign=\"middle\">Fuel/nm</td>\n",
      "<td width=\"\" class=\"table_row_header\" align=\"left\" valign=\"middle\">Altitude</td>\n",
      "<td width=\"\" class=\"table_row_header\" align=\"left\" valign=\"middle\">Gnd Speed</td>\n",
      "</tr></thead><tbody>\n",
      "<tr class=\"table_row1\" onmouseover=\"style.backgroundColor=&#39;#FFF9C4&#39;\" onmouseout=\"style.backgroundColor=&#39;#FFFFFF&#39;\">\n",
      "<td width=\"\" class=\"table_td\" align=\"left\" valign=\"top\">Mon, May xx, 2010</td>\n",
      "<td width=\"\" class=\"table_td\" align=\"left\" valign=\"top\">KMYF</td>\n",
      "<td width=\"\" class=\"table_td\" align=\"left\" valign=\"top\">XXXX</td>\n",
      "<td width=\"\" class=\"table_td\" align=\"left\" valign=\"top\">10:44</td>\n",
      "<td width=\"\" class=\"table_td\" align=\"left\" valign=\"top\">12:43</td>\n",
      "<td width=\"\" class=\"table_td\" align=\"left\" valign=\"top\">1.92 hrs</td>\n",
      "<td width=\"\" class=\"table_td\" align=\"left\" valign=\"top\">1.8 hrs (1:48)</td>\n",
      "<td width=\"\" class=\"table_td\" align=\"left\" valign=\"top\">0.12 hrs (0:07)</td>\n",
      "<td width=\"\" class=\"table_td\" align=\"left\" valign=\"top\">177.27 nm</td>\n",
      "<td width=\"\" class=\"table_td\" align=\"left\" valign=\"top\">1.32 nm</td>\n",
      "<td width=\"\" class=\"table_td\" align=\"left\" valign=\"top\">16.69 gal</td>\n",
      "<td width=\"\" class=\"table_td\" align=\"left\" valign=\"top\">8.68 gal/hr</td>\n",
      "<td width=\"\" class=\"table_td\" align=\"left\" valign=\"top\">0.09 gal/nm</td>\n",
      "<td width=\"\" class=\"table_td\" align=\"left\" valign=\"top\">9511 msl</td>\n",
      "<td width=\"\" class=\"table_td\" align=\"left\" valign=\"top\">95.21 kts</td>\n",
      "</tr>\n",
      "</tbody></table>\n",
      "\n",
      "</td></tr></tbody></table>\n",
      "</div>\n",
      "\"\"\";"
     ],
     "language": "python",
     "metadata": {},
     "outputs": [],
     "prompt_number": 167
    },
    {
     "cell_type": "markdown",
     "metadata": {},
     "source": [
      "### The // in \"/div/table//table//td\" allows expat to skip layers of elements, reaching anywhere under /div/table"
     ]
    },
    {
     "cell_type": "code",
     "collapsed": false,
     "input": [
      "tds = find(et, \"/div/table//table//td\")"
     ],
     "language": "python",
     "metadata": {},
     "outputs": [
      {
       "metadata": {},
       "output_type": "pyout",
       "prompt_number": 168,
       "text": [
        "31-element Array{ETree,1}:\n",
        " <td class=\"table_header\" align=\"left\" colspan=\"15\">Flight Info - NXXXXXX(Rogers Bleeblah #)  </td>\n",
        " <td class=\"table_row_header\" valign=\"middle\" align=\"left\" width=\"\">Date</td>                      \n",
        " <td class=\"table_row_header\" valign=\"middle\" align=\"left\" width=\"\">Origin</td>                    \n",
        " <td class=\"table_row_header\" valign=\"middle\" align=\"left\" width=\"\">Dest</td>                      \n",
        " <td class=\"table_row_header\" valign=\"middle\" align=\"left\" width=\"\">Depart</td>                    \n",
        " <td class=\"table_row_header\" valign=\"middle\" align=\"left\" width=\"\">Arrive</td>                    \n",
        " <td class=\"table_row_header\" valign=\"middle\" align=\"left\" width=\"\">Hobbs</td>                     \n",
        " <td class=\"table_row_header\" valign=\"middle\" align=\"left\" width=\"\">Flight Time</td>               \n",
        " <td class=\"table_row_header\" valign=\"middle\" align=\"left\" width=\"\">Ground Time</td>               \n",
        " <td class=\"table_row_header\" valign=\"middle\" align=\"left\" width=\"\">Flight Distance</td>           \n",
        " <td class=\"table_row_header\" valign=\"middle\" align=\"left\" width=\"\">Taxi Distance</td>             \n",
        " <td class=\"table_row_header\" valign=\"middle\" align=\"left\" width=\"\">Fuel</td>                      \n",
        " <td class=\"table_row_header\" valign=\"middle\" align=\"left\" width=\"\">Fuel/hr</td>                   \n",
        " \u22ee                                                                                                 \n",
        " <td class=\"table_td\" valign=\"top\" align=\"left\" width=\"\">10:44</td>                                \n",
        " <td class=\"table_td\" valign=\"top\" align=\"left\" width=\"\">12:43</td>                                \n",
        " <td class=\"table_td\" valign=\"top\" align=\"left\" width=\"\">1.92 hrs</td>                             \n",
        " <td class=\"table_td\" valign=\"top\" align=\"left\" width=\"\">1.8 hrs (1:48)</td>                       \n",
        " <td class=\"table_td\" valign=\"top\" align=\"left\" width=\"\">0.12 hrs (0:07)</td>                      \n",
        " <td class=\"table_td\" valign=\"top\" align=\"left\" width=\"\">177.27 nm</td>                            \n",
        " <td class=\"table_td\" valign=\"top\" align=\"left\" width=\"\">1.32 nm</td>                              \n",
        " <td class=\"table_td\" valign=\"top\" align=\"left\" width=\"\">16.69 gal</td>                            \n",
        " <td class=\"table_td\" valign=\"top\" align=\"left\" width=\"\">8.68 gal/hr</td>                          \n",
        " <td class=\"table_td\" valign=\"top\" align=\"left\" width=\"\">0.09 gal/nm</td>                          \n",
        " <td class=\"table_td\" valign=\"top\" align=\"left\" width=\"\">9511 msl</td>                             \n",
        " <td class=\"table_td\" valign=\"top\" align=\"left\" width=\"\">95.21 kts</td>                            "
       ]
      }
     ],
     "prompt_number": 168
    },
    {
     "cell_type": "code",
     "collapsed": false,
     "input": [
      "el = tds[1]"
     ],
     "language": "python",
     "metadata": {},
     "outputs": [
      {
       "metadata": {},
       "output_type": "pyout",
       "prompt_number": 169,
       "text": [
        "<td class=\"table_header\" align=\"left\" colspan=\"15\">Flight Info - NXXXXXX(Rogers Bleeblah #)  </td>"
       ]
      }
     ],
     "prompt_number": 169
    },
    {
     "cell_type": "code",
     "collapsed": false,
     "input": [
      "typeof(el)"
     ],
     "language": "python",
     "metadata": {},
     "outputs": [
      {
       "metadata": {},
       "output_type": "pyout",
       "prompt_number": 170,
       "text": [
        "ETree (constructor with 2 methods)"
       ]
      }
     ],
     "prompt_number": 170
    },
    {
     "cell_type": "markdown",
     "metadata": {},
     "source": [
      "Just get the text of the element:"
     ]
    },
    {
     "cell_type": "code",
     "collapsed": false,
     "input": [
      "string(el)"
     ],
     "language": "python",
     "metadata": {},
     "outputs": [
      {
       "metadata": {},
       "output_type": "pyout",
       "prompt_number": 171,
       "text": [
        "\"<td class=\\\"table_header\\\" align=\\\"left\\\" colspan=\\\"15\\\">Flight Info - NXXXXXX(Rogers Bleeblah #)  </td>\""
       ]
      }
     ],
     "prompt_number": 171
    },
    {
     "cell_type": "markdown",
     "metadata": {},
     "source": [
      "Check the attribute Dict to identifier elements by class"
     ]
    },
    {
     "cell_type": "code",
     "collapsed": false,
     "input": [
      "el.attr[\"class\"]"
     ],
     "language": "python",
     "metadata": {},
     "outputs": [
      {
       "metadata": {},
       "output_type": "pyout",
       "prompt_number": 172,
       "text": [
        "\"table_header\""
       ]
      }
     ],
     "prompt_number": 172
    },
    {
     "cell_type": "code",
     "collapsed": false,
     "input": [
      "get(el.attr, \"class\",\"\")"
     ],
     "language": "python",
     "metadata": {},
     "outputs": [
      {
       "metadata": {},
       "output_type": "pyout",
       "prompt_number": 173,
       "text": [
        "\"table_header\""
       ]
      }
     ],
     "prompt_number": 173
    },
    {
     "cell_type": "markdown",
     "metadata": {},
     "source": [
      "### Build a dictionary of labels and values by parsing element payloads\n",
      "\n",
      "To extract <td> from dirty html, it might make sense to match on class=\"table_td\" or class=\"table_row_header\" and then use expat to extract payloads."
     ]
    },
    {
     "cell_type": "markdown",
     "metadata": {},
     "source": [
      "Get the flight acid"
     ]
    },
    {
     "cell_type": "code",
     "collapsed": false,
     "input": [
      "function parse_header( hdr )\n",
      "    #hdr = strip(td.elements[1])\n",
      "    hdr = strip( split(hdr,'-')[2] )\n",
      "    (acid, actype) = [strip(s) for s in split(hdr,'(')]\n",
      "    actype = strip(replace(actype, \"#)\",\"\"))\n",
      "    return (acid, actype)\n",
      "end "
     ],
     "language": "python",
     "metadata": {},
     "outputs": [
      {
       "metadata": {},
       "output_type": "pyout",
       "prompt_number": 174,
       "text": [
        "parse_header (generic function with 1 method)"
       ]
      }
     ],
     "prompt_number": 174
    },
    {
     "cell_type": "code",
     "collapsed": false,
     "input": [
      "parse_header( \"Flight Info - NXXXXXX (Rogers Bleeblah #)  \" )"
     ],
     "language": "python",
     "metadata": {},
     "outputs": [
      {
       "metadata": {},
       "output_type": "pyout",
       "prompt_number": 175,
       "text": [
        "(\"NXXXXXX\",\"Rogers Bleeblah\")"
       ]
      }
     ],
     "prompt_number": 175
    },
    {
     "cell_type": "markdown",
     "metadata": {},
     "source": [
      "Extract element payloads"
     ]
    },
    {
     "cell_type": "code",
     "collapsed": false,
     "input": [
      "labels = ASCIIString[]\n",
      "values = ASCIIString[]\n",
      "hdr = \"\"\n",
      "for td in tds\n",
      "    if get(td.attr,\"class\",\"\")==\"table_header\" \n",
      "        hdr = strip(td.elements[1])\n",
      "        (acid, actype) = parse_header(hdr)\n",
      "    end\n",
      "    if get(td.attr,\"class\",\"\")==\"table_td\" \n",
      "        push!(values, strip(td.elements[1]) )\n",
      "    end\n",
      "    if get(td.attr,\"class\",\"\")==\"table_row_header\" \n",
      "        push!(labels, strip(td.elements[1]) )\n",
      "    end\n",
      "end    "
     ],
     "language": "python",
     "metadata": {},
     "outputs": [],
     "prompt_number": 176
    },
    {
     "cell_type": "code",
     "collapsed": false,
     "input": [
      "acid, actype"
     ],
     "language": "python",
     "metadata": {},
     "outputs": [
      {
       "metadata": {},
       "output_type": "pyout",
       "prompt_number": 177,
       "text": [
        "(\"NXXXXXX\",\"Rogers Bleeblah\")"
       ]
      }
     ],
     "prompt_number": 177
    },
    {
     "cell_type": "markdown",
     "metadata": {},
     "source": [
      "Load to Dict() "
     ]
    },
    {
     "cell_type": "code",
     "collapsed": false,
     "input": [
      "dmap = Dict()\n",
      "for (i,el) in enumerate(labels)\n",
      "    v = values[i]\n",
      "    if '0'<=v[end]<='9'\n",
      "        dmap[el] = v\n",
      "    else\n",
      "        dmap[el] = split(v,' ')[1]\n",
      "    end\n",
      "end\n",
      "dump(dmap)"
     ],
     "language": "python",
     "metadata": {},
     "outputs": [
      {
       "output_type": "stream",
       "stream": "stdout",
       "text": [
        "Dict"
       ]
      },
      {
       "output_type": "stream",
       "stream": "stdout",
       "text": [
        "{Any,Any} len 15\n",
        "  Flight Time: ASCIIString \"1.8\"\n",
        "  Fuel/hr: ASCIIString \"8.68\"\n",
        "  Gnd Speed: ASCIIString \"95.21\"\n",
        "  Fuel: ASCIIString \"16.69\"\n",
        "  Fuel/nm: ASCIIString \"0.09\"\n",
        "  Hobbs: ASCIIString \"1.92\"\n",
        "  Flight Distance: ASCIIString \"177.27\"\n",
        "  Date: ASCIIString \"Mon, May xx, 2010\"\n",
        "  Ground Time: ASCIIString \"0.12\"\n",
        "  Taxi Distance: ASCIIString \"1.32\"\n",
        "  Dest: ASCIIString \"XXXX\"\n",
        "  ...\n"
       ]
      }
     ],
     "prompt_number": 178
    },
    {
     "cell_type": "code",
     "collapsed": false,
     "input": [],
     "language": "python",
     "metadata": {},
     "outputs": [],
     "prompt_number": 159
    }
   ],
   "metadata": {}
  }
 ]
}
